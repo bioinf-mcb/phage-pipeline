{
 "cells": [
  {
   "cell_type": "code",
   "execution_count": 101,
   "id": "6363373d",
   "metadata": {},
   "outputs": [],
   "source": [
    "### get results of Phanotate and Prodigal and clean ORFs that are 40AA and less\n",
    "# should process genome by genome but can load file and split internaly\n",
    "from Bio import SeqIO\n",
    "from itertools import chain"
   ]
  },
  {
   "cell_type": "code",
   "execution_count": 91,
   "id": "02619a7a",
   "metadata": {},
   "outputs": [],
   "source": [
    "phan_filepath       = '/Users/kszczepaniak/Data/Phage/phage-pipeline-input-300/genome-seqs-phan.fa'\n",
    "phan_verified_fpath = '/Users/kszczepaniak/Data/Phage/phage-pipeline-input-300/genome-seqs-phan-verified.fa'\n",
    "prod_filepath       = '/Users/kszczepaniak/Data/Phage/phage-pipeline-input-300/genome-seqs-prod.faa'\n",
    "orf_len_cutoff      = 3*40 # phanotate seqs reported in nt, therefore cutoff is 3 * nb_of_AA\n",
    "orf_overlap_cutoff  = 0.9"
   ]
  },
  {
   "cell_type": "code",
   "execution_count": 102,
   "id": "90163595",
   "metadata": {},
   "outputs": [
    {
     "name": "stdout",
     "output_type": "stream",
     "text": [
      "Genomes with short ORFs: 313\n",
      "Total short ORFs: 4181\n"
     ]
    }
   ],
   "source": [
    "# find all phanotate ORFs shorter than desired orf_len_cutoff and store in dict (genome.id == keys)\n",
    "phan_orfs_short = {}\n",
    "\n",
    "phanf = SeqIO.parse(phan_filepath, \"fasta\")\n",
    "for i, record in enumerate(phanf):\n",
    "    if len(record.seq) < orf_len_cutoff:\n",
    "        genome_id     = '.'.join(record.id.split('.')[:-1])\n",
    "        start_pos_raw = int(record.description.split('START=')[-1].split(']')[0])\n",
    "        stop_pos_raw  = int(record.id.split('.')[-1])\n",
    "        # rearrange so the smaller pos is always first (strandness stored in other value)\n",
    "        start_pos     = start_pos_raw if start_pos_raw < stop_pos_raw else stop_pos_raw\n",
    "        stop_pos      = stop_pos_raw if start_pos_raw < stop_pos_raw else start_pos_raw\n",
    "        orf_len       = len(record.seq)\n",
    "        strand        = '+' if start_pos_raw < stop_pos_raw else '-'\n",
    "        if genome_id in phan_orfs_short.keys():\n",
    "            phan_orfs_short[genome_id].append([start_pos, stop_pos, orf_len, strand]) # orf start, stop, len\n",
    "        else:\n",
    "            phan_orfs_short[genome_id] = [[start_pos, stop_pos, orf_len, strand]]\n",
    "\n",
    "print('Genomes with short ORFs:', len(phan_orfs_short))\n",
    "print('Total short ORFs:', len(list(chain(*[ v for v in phan_orfs_short.values() ]))))"
   ]
  },
  {
   "cell_type": "code",
   "execution_count": 103,
   "id": "14d6a65a",
   "metadata": {
    "scrolled": false
   },
   "outputs": [],
   "source": [
    "# parse Prodigal results file and store in dict (genome.id == keys)\n",
    "prod_orfs = {}\n",
    "\n",
    "prodf = SeqIO.parse(prod_filepath, \"fasta\")\n",
    "for record in prodf:\n",
    "    genome_id   = '_'.join(record.id.split('_')[:-1])\n",
    "    record_desc = record.description.split('#')\n",
    "    start_pos = int(record_desc[1])\n",
    "    stop_pos  = int(record_desc[2])\n",
    "    orf_len   = len(record.seq)*3 # prodigal returns AA seqs when Phanotate nt, this is to match seq lengths\n",
    "    strand    = '+' if int(record_desc[3]) == 1 else '-'\n",
    "        \n",
    "    if genome_id in prod_orfs.keys():\n",
    "        prod_orfs[genome_id].append([start_pos, stop_pos, orf_len, strand]) # orf start, stop, len\n",
    "    else:\n",
    "        prod_orfs[genome_id] = [[start_pos, stop_pos, orf_len, strand]]"
   ]
  },
  {
   "cell_type": "code",
   "execution_count": 105,
   "id": "def64168",
   "metadata": {},
   "outputs": [
    {
     "name": "stdout",
     "output_type": "stream",
     "text": [
      "Total short ORFs after verification: 308\n"
     ]
    }
   ],
   "source": [
    "# for every short ORF: go through prodigal data and fing two closest ORFs;\n",
    "# check if either of them overlaps with short one in more than orf_overlap_cutoff;\n",
    "# if yes: keep ORF, if not: remove\n",
    "\n",
    "def find_two_closest_orfs(sorf, prod_orfs_genome):\n",
    "    sorf_start = sorf[0]\n",
    "    close_porf = []\n",
    "    for porf in prod_orfs_genome:\n",
    "        porf_start = porf[0]\n",
    "        if sorf_start >= porf_start:\n",
    "            close_porf = porf\n",
    "        else:\n",
    "            if close_porf: # if close_porf non-empty, i.e. sORF not in very beginning of genome:\n",
    "                try:\n",
    "                    return [close_porf, prod_orfs_genome[prod_orfs_genome.index(close_porf)+1]]\n",
    "                except IndexError: # this was the last pORF, only return first one\n",
    "                    return [close_porf]\n",
    "            else:\n",
    "                return [prod_orfs_genome[0]] # sORF is at the beginning of genome, return first pORF from Prodigal\n",
    "    \n",
    "    return [prod_orfs_genome[-1]] # if loop is complete without return it means sORF was at the end of genome\n",
    "\n",
    "def check_close_ORFs_overlap(sorf, closest_prod_orfs, orf_overlap_cutoff):\n",
    "    \n",
    "    sorf_span = set([ i for i in range(sorf[0], sorf[1]+1)])\n",
    "    for corf in closest_prod_orfs:\n",
    "        corf_span    = set([ i for i in range(corf[0], corf[1]+1)])\n",
    "        orfs_overlap = len(sorf_span.intersection(corf_span)) / len(sorf_span.union(corf_span))\n",
    "        if orfs_overlap >= orf_overlap_cutoff:\n",
    "            return True\n",
    "    \n",
    "    return False\n",
    "\n",
    "#############################\n",
    "\n",
    "phan_orfs_short_verified = {}\n",
    "\n",
    "for genome_id, short_orfs in phan_orfs_short.items():\n",
    "    phan_orfs_short_verified[genome_id] = []\n",
    "#     print('>>>', genome_id)\n",
    "    prod_orfs_genome = prod_orfs[genome_id]\n",
    "#     print(prod_orfs_genome)\n",
    "    if not prod_orfs_genome: # if no ORFs were detected then ignore genome and return no ORFs\n",
    "        continue\n",
    "    for sorf in short_orfs:\n",
    "        closest_prod_orfs = find_two_closest_orfs(sorf, prod_orfs_genome)\n",
    "#         print('SORF', sorf)\n",
    "#         print(closest_prod_orfs)\n",
    "        \n",
    "        if check_close_ORFs_overlap(sorf, closest_prod_orfs, orf_overlap_cutoff):\n",
    "            phan_orfs_short_verified[genome_id].append(sorf[0]) # store only start_pos, it is unique in genome\n",
    "        \n",
    "print('Total short ORFs after verification:', len(list(chain(*[ v for v in phan_orfs_short_verified.values() ]))))"
   ]
  },
  {
   "cell_type": "code",
   "execution_count": 106,
   "id": "144deb1a",
   "metadata": {},
   "outputs": [
    {
     "data": {
      "text/plain": [
       "44379"
      ]
     },
     "execution_count": 106,
     "metadata": {},
     "output_type": "execute_result"
    }
   ],
   "source": [
    "# save new Phanotate file with only verified ORFs\n",
    "\n",
    "phanf         = SeqIO.parse(phan_filepath, \"fasta\")\n",
    "phan_verified = []\n",
    "\n",
    "for record in phanf:\n",
    "    if len(record.seq) < orf_len_cutoff:\n",
    "        # load data from record\n",
    "        genome_id     = '.'.join(record.id.split('.')[:-1])\n",
    "        start_pos_raw = int(record.description.split('START=')[-1].split(']')[0])\n",
    "        # rearrange so the smaller pos is always first (strandness stored in other value)\n",
    "        start_pos     = start_pos_raw if start_pos_raw < stop_pos_raw else stop_pos_raw\n",
    "        verified_orfs_genome = phan_orfs_short_verified[genome_id]\n",
    "        if start_pos in verified_orfs_genome:\n",
    "            phan_verified.append(record)\n",
    "    else:\n",
    "        phan_verified.append(record)\n",
    "        \n",
    "SeqIO.write(phan_verified, phan_verified_fpath, \"fasta\")"
   ]
  },
  {
   "cell_type": "code",
   "execution_count": null,
   "id": "36e8ea43",
   "metadata": {},
   "outputs": [],
   "source": []
  }
 ],
 "metadata": {
  "kernelspec": {
   "display_name": "Python 3",
   "language": "python",
   "name": "python3"
  },
  "language_info": {
   "codemirror_mode": {
    "name": "ipython",
    "version": 3
   },
   "file_extension": ".py",
   "mimetype": "text/x-python",
   "name": "python",
   "nbconvert_exporter": "python",
   "pygments_lexer": "ipython3",
   "version": "3.9.7"
  }
 },
 "nbformat": 4,
 "nbformat_minor": 5
}
