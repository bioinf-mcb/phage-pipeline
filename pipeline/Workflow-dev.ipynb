{
 "cells": [
  {
   "cell_type": "code",
   "execution_count": 1,
   "id": "c821e1f2",
   "metadata": {},
   "outputs": [],
   "source": [
    "%load_ext autoreload\n",
    "%autoreload 2"
   ]
  },
  {
   "cell_type": "code",
   "execution_count": 30,
   "id": "3b8529ac",
   "metadata": {},
   "outputs": [
    {
     "name": "stdout",
     "output_type": "stream",
     "text": [
      "/tmp/ directory already set up\n",
      "/tmp/repr-proteins/ directory already set up\n",
      "/tmp/mmseqs/ directory already set up\n",
      "/tmp/all-by-all/ directory already set up\n",
      "/tmp/all-by-all/individual-seqs/ directory already set up\n",
      "/output/ directory already set up\n",
      "/output/prot-families/ directory already set up\n",
      "/output/prot-families/representative/ directory already set up\n",
      "/output/prot-families/all-by-all/ directory already set up\n",
      "/intermediate/ directory already set up\n",
      "/intermediate/prot-families/ directory already set up\n",
      "/intermediate/prot-families/profiles/ directory already set up\n",
      "/intermediate/prot-families/all-by-all/ directory already set up\n",
      "/intermediate/prot-families/db/ directory already set up\n",
      "/log/ directory already set up\n"
     ]
    }
   ],
   "source": [
    "### setup ###\n",
    "\n",
    "### imports\n",
    "\n",
    "import sys\n",
    "sys.path.append('/Users/kszczepaniak/Code/phage-pipeline-env/phage-pipeline')\n",
    "from lib_phage.clustering import cluster_proteins\n",
    "from lib_phage.utils import setup_dir_tree, fetch_and_rename_protein_ids, build_hhr_table\n",
    "from lib_phage.logs import check_input_repr_prot_selection, validate_output_repr_prot_selection\n",
    "from lib_phage.logs import check_input_all_vs_all_HMM, save_params_hhblits, validate_output_hhblits\n",
    "from lib_phage.logs import validate_create_db, validate_search_all_vs_all\n",
    "from lib_phage.prot_compare import save_individual_seqs, run_hhblits, build_hh_db, run_all_vs_all\n",
    "\n",
    "### paths\n",
    "\n",
    "# data sources\n",
    "\n",
    "cds_all_filepath = '/Users/kszczepaniak/Data/Phage/Rafal_Dropbox/data/input/combined/coding-seqs/cds-aa.fa.gz'\n",
    "\n",
    "# work dirs\n",
    "work_dir = '/Users/kszczepaniak/Data/Phage/phage-pipeline-workdir-dev/'\n",
    "setup_dir_tree(work_dir)\n",
    "\n",
    "# binaries and libraries\n",
    "\n",
    "mmseqs_binpath  = 'mmseqs'\n",
    "uniref_db_path  = '/Users/kszczepaniak/Data/Phage/db/UniRef30_2020_06/UniRef30_2020_06'\n",
    "hhsuite_bins    = '/Users/kszczepaniak/Tools/hh-suite/build/bin'\n",
    "hhsuite_scripts = '/Users/kszczepaniak/Tools/hh-suite/build/scripts'"
   ]
  },
  {
   "cell_type": "code",
   "execution_count": 31,
   "id": "caad14e4",
   "metadata": {
    "scrolled": true
   },
   "outputs": [
    {
     "name": "stdout",
     "output_type": "stream",
     "text": [
      "Creating db... Done!\n",
      "Clustering... Done!\n",
      "Generating a clustering table... Done!\n",
      "DEVEL: Restricting input to 16 proteins for fast calculation\n",
      "Validation success, log file stored.\n"
     ]
    }
   ],
   "source": [
    "### Get representative proteins ###\n",
    "\n",
    "# set clustering params\n",
    "cluster_params_min_seqid   = 0.3\n",
    "cluster_params_sensitivity = 7\n",
    "cluster_params_coverage    = 0.95\n",
    "\n",
    "# check input files integrity & if this step was already executed:\n",
    "# if it was warn about data overwrite\n",
    "if check_input_repr_prot_selection():\n",
    "\n",
    "    # perform clustering\n",
    "    clustering_filepath = cluster_proteins(input_fasta_filepath=cds_all_filepath,\n",
    "                                           output_dirpath=work_dir + 'output/prot-families/representative',\n",
    "                                           mmseqs_tempdir=work_dir + 'tmp/mmseqs',\n",
    "                                           cluster_params_min_seqid=cluster_params_min_seqid,\n",
    "                                           cluster_params_sensitivity=cluster_params_sensitivity,\n",
    "                                           cluster_params_coverage=cluster_params_coverage,\n",
    "                                           verbose=True)\n",
    "\n",
    "    no_repr_prot, name_table_filepath = fetch_and_rename_protein_ids(work_dir, clustering_filepath, cds_all_filepath)\n",
    "\n",
    "    # verify output and save log file\n",
    "    validate_output_repr_prot_selection(work_dir=work_dir,\n",
    "                                        output_dirpath=work_dir + 'output/prot-families/representative',\n",
    "                                        cluster_params_min_seqid=cluster_params_min_seqid,\n",
    "                                        cluster_params_sensitivity=cluster_params_sensitivity,\n",
    "                                        cluster_params_coverage=cluster_params_coverage)"
   ]
  },
  {
   "cell_type": "code",
   "execution_count": 32,
   "id": "b2a3e5a8",
   "metadata": {},
   "outputs": [
    {
     "name": "stdout",
     "output_type": "stream",
     "text": [
      "This step was already executed. Run validation fucntion with force=True to overwrite.\n"
     ]
    }
   ],
   "source": [
    "### Perform all vs all comparison ###\n",
    "# create profiles for each protein with hhblits #\n",
    "\n",
    "# set create profiles params\n",
    "cpu  = 2\n",
    "n    = 1\n",
    "mact = 0.35\n",
    "p    = 90\n",
    "qid  = 10\n",
    "cov  = 10\n",
    "\n",
    "# validate previous step\n",
    "if check_input_all_vs_all_HMM(work_dir=work_dir):\n",
    "\n",
    "    # execute current step\n",
    "    save_individual_seqs(work_dir=work_dir)\n",
    "\n",
    "    run_hhblits(work_dir=work_dir, hhsuite_bins=hhsuite_bins, hhsuite_scripts=hhsuite_scripts, cpu=cpu, \n",
    "                uniref_db_path=uniref_db_path, n=n, mact=mact, p=p, qid=qid, cov=cov)\n",
    "\n",
    "    # save params to log\n",
    "    save_params_hhblits(work_dir=work_dir, n=n, mact=mact, p=p, qid=qid, cov=cov)"
   ]
  },
  {
   "cell_type": "code",
   "execution_count": 33,
   "id": "67884e16",
   "metadata": {},
   "outputs": [
    {
     "name": "stdout",
     "output_type": "stream",
     "text": [
      "Database already exists. Overwrite? [y/n]y\n",
      "Database cleaned.\n",
      "Concatenated a3m alignments.\n",
      "Created HMM profiles.\n",
      "Created column state (CS) sequence database.\n",
      "DB sorted.\n",
      "DB successfuly created.\n"
     ]
    }
   ],
   "source": [
    "# build db #\n",
    "\n",
    "# validate previous step\n",
    "if validate_output_hhblits(work_dir):\n",
    "    \n",
    "    # execute current step\n",
    "    build_hh_db(work_dir=work_dir, hhsuite_bins=hhsuite_bins,\n",
    "                hhsuite_scripts=hhsuite_scripts, verbose=True)"
   ]
  },
  {
   "cell_type": "code",
   "execution_count": 157,
   "id": "1253b5af",
   "metadata": {},
   "outputs": [
    {
     "name": "stdout",
     "output_type": "stream",
     "text": [
      "Parameters saved, log file stored.\n"
     ]
    }
   ],
   "source": [
    "# search all vs all #\n",
    "\n",
    "# set all vs all search params\n",
    "cpu  = 2\n",
    "n    = 1\n",
    "p    = 90\n",
    "\n",
    "if validate_create_db(work_dir=work_dir):\n",
    "\n",
    "    run_all_vs_all(work_dir=work_dir, hhsuite_bins=hhsuite_bins, \n",
    "                   hhsuite_scripts=hhsuite_scripts, cpu=cpu, n=n, p=p)"
   ]
  },
  {
   "cell_type": "code",
   "execution_count": 26,
   "id": "75f6e16e",
   "metadata": {},
   "outputs": [],
   "source": [
    "# create results table #\n",
    "\n",
    "# check if previous step complete\n",
    "if validate_search_all_vs_all(work_dir):\n",
    "    \n",
    "    # create results table\n",
    "    build_hhr_table(work_dir)\n"
   ]
  },
  {
   "cell_type": "code",
   "execution_count": null,
   "id": "0cec3193",
   "metadata": {},
   "outputs": [],
   "source": []
  }
 ],
 "metadata": {
  "kernelspec": {
   "display_name": "Python 3",
   "language": "python",
   "name": "python3"
  },
  "language_info": {
   "codemirror_mode": {
    "name": "ipython",
    "version": 3
   },
   "file_extension": ".py",
   "mimetype": "text/x-python",
   "name": "python",
   "nbconvert_exporter": "python",
   "pygments_lexer": "ipython3",
   "version": "3.9.2"
  }
 },
 "nbformat": 4,
 "nbformat_minor": 5
}
