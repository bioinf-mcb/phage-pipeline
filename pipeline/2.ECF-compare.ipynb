{
 "cells": [
  {
   "cell_type": "code",
   "execution_count": null,
   "id": "b44f952b",
   "metadata": {},
   "outputs": [],
   "source": [
    "### running all vs all ECF comparison with HHsuite\n",
    "### FIXME: this runs on the same code as all vs all proteins comparison: this required code changes that make\n",
    "### FIXME: running code for protein comparison not possible and needs fixing"
   ]
  },
  {
   "cell_type": "code",
   "execution_count": 25,
   "id": "2f803bb4",
   "metadata": {},
   "outputs": [
    {
     "name": "stdout",
     "output_type": "stream",
     "text": [
      "The autoreload extension is already loaded. To reload it, use:\n",
      "  %reload_ext autoreload\n"
     ]
    }
   ],
   "source": [
    "%load_ext autoreload\n",
    "%autoreload 2"
   ]
  },
  {
   "cell_type": "code",
   "execution_count": 26,
   "id": "48519d1c",
   "metadata": {},
   "outputs": [
    {
     "name": "stdout",
     "output_type": "stream",
     "text": [
      "/tmp/ directory already set up\n",
      "/tmp/repr-proteins/ directory already set up\n",
      "/tmp/mmseqs/ directory already set up\n",
      "/tmp/all-by-all/ directory already set up\n",
      "/tmp/all-by-all/individual-seqs/ directory already set up\n",
      "/output/ directory already set up\n",
      "/output/prot-families/ directory already set up\n",
      "/output/prot-families/representative/ directory already set up\n",
      "/output/prot-families/all-by-all/ directory already set up\n",
      "/intermediate/ directory already set up\n",
      "/intermediate/prot-families/ directory already set up\n",
      "/intermediate/prot-families/profiles/ directory already set up\n",
      "/intermediate/prot-families/all-by-all/ directory already set up\n",
      "/intermediate/prot-families/db/ directory already set up\n",
      "/log/ directory already set up\n"
     ]
    }
   ],
   "source": [
    "### imports and data load\n",
    "\n",
    "### imports\n",
    "\n",
    "import random\n",
    "import sys\n",
    "sys.path.append('/Users/kszczepaniak/Code/phage-pipeline-env/phage-pipeline')\n",
    "import submodules.pdf.domain_split as ds\n",
    "from lib_phage.clustering import cluster_proteins\n",
    "from lib_phage.utils import setup_dir_tree, fetch_and_rename_protein_ids, build_hhr_table\n",
    "from lib_phage.logs import check_input_repr_prot_selection, validate_output_repr_prot_selection\n",
    "from lib_phage.logs import check_input_all_vs_all_HMM, save_params_hhblits, validate_output_hhblits\n",
    "from lib_phage.logs import validate_create_db, validate_search_all_vs_all, validate_input_ECF, validate_output_ECF\n",
    "from lib_phage.prot_compare import save_individual_seqs, run_hhblits, build_hh_db, run_all_vs_all, run_hhmake\n",
    "from lib_phage.ecf_finder_wrapper import load_and_filter_data, store_scan_results\n",
    "\n",
    "### paths\n",
    "\n",
    "# work dirs\n",
    "work_dir = '/Users/kszczepaniak/Data/Phage/preliminary-results/ecf-compare/'\n",
    "setup_dir_tree(work_dir)\n",
    "\n",
    "# binaries and libraries\n",
    "hhsuite_bins    = '/Users/kszczepaniak/Tools/hh-suite/build/bin'\n",
    "hhsuite_scripts = '/Users/kszczepaniak/Tools/hh-suite/build/scripts'"
   ]
  },
  {
   "cell_type": "code",
   "execution_count": 27,
   "id": "658aee7d",
   "metadata": {},
   "outputs": [
    {
     "name": "stdout",
     "output_type": "stream",
     "text": [
      "Concatenated a3m alignments.\n",
      "Created HMM profiles.\n",
      "Created column state (CS) sequence database.\n",
      "DB sorted.\n",
      "DB successfuly created.\n"
     ]
    }
   ],
   "source": [
    "# create hhsuite db\n",
    "build_hh_db(work_dir=work_dir, hhsuite_bins=hhsuite_bins,\n",
    "            hhsuite_scripts=hhsuite_scripts, verbose=True)"
   ]
  },
  {
   "cell_type": "code",
   "execution_count": 28,
   "id": "197a2530",
   "metadata": {},
   "outputs": [
    {
     "name": "stdout",
     "output_type": "stream",
     "text": [
      "Parameters saved, log file stored.\n"
     ]
    }
   ],
   "source": [
    "### run all vs all profiles comparison\n",
    "# set all vs all search params\n",
    "cpu  = 2\n",
    "n    = 1\n",
    "p    = 90\n",
    "\n",
    "\n",
    "run_all_vs_all(work_dir=work_dir, hhsuite_bins=hhsuite_bins, \n",
    "               hhsuite_scripts=hhsuite_scripts, cpu=cpu, n=n, p=p, a3m_wildcard='ecf_reprseq*a3m')"
   ]
  }
 ],
 "metadata": {
  "kernelspec": {
   "display_name": "Python 3",
   "language": "python",
   "name": "python3"
  },
  "language_info": {
   "codemirror_mode": {
    "name": "ipython",
    "version": 3
   },
   "file_extension": ".py",
   "mimetype": "text/x-python",
   "name": "python",
   "nbconvert_exporter": "python",
   "pygments_lexer": "ipython3",
   "version": "3.9.7"
  }
 },
 "nbformat": 4,
 "nbformat_minor": 5
}
